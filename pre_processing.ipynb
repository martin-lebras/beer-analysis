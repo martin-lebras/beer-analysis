{
 "cells": [
  {
   "cell_type": "markdown",
   "metadata": {},
   "source": [
    "# Pre-processing\n",
    "\n",
    "This notebook contains pre-processing steps to create cleaned data in the `/data` folder from the raw datasets."
   ]
  },
  {
   "cell_type": "code",
   "execution_count": 52,
   "metadata": {},
   "outputs": [],
   "source": [
    "import pandas as pd\n",
    "import os\n",
    "from thefuzz import process\n",
    "import subprocess\n",
    "\n",
    "from src.utils.preprocess.location_extracter import extract_location\n",
    "from src.utils.preprocess.preprocess import (\n",
    "    preprocess_ba_beers,\n",
    "    preprocess_ba_breweries,\n",
    "    preprocess_ba_users,\n",
    "    preprocess_ba_ratings,\n",
    "    compute_gini_impurity,\n",
    "    preprocess_rb_beers,\n",
    "    preprocess_rb_beers_style,\n",
    "    preprocess_rb_breweries,\n",
    "    preprocess_rb_users,\n",
    "    preprocess_rb_ratings,\n",
    ")\n",
    "from src.utils.preprocess.past_ratings import (\n",
    "    get_past_ratings_count_and_average,\n",
    "    get_past_ratings_counts_all_style,\n",
    ")"
   ]
  },
  {
   "cell_type": "code",
   "execution_count": 2,
   "metadata": {},
   "outputs": [],
   "source": [
    "os.makedirs(\"src/data\", exist_ok=True)\n",
    "os.makedirs(\"src/data/beer_advocate\", exist_ok=True)\n",
    "os.makedirs(\"src/data/matched_beer_data\", exist_ok=True)\n",
    "os.makedirs(\"src/data/rate_beer\", exist_ok=True)"
   ]
  },
  {
   "cell_type": "markdown",
   "metadata": {},
   "source": [
    "# Downloading data\n",
    "\n",
    "The dataset is stored on a remote Google Drive folder. The following cell with execute a python script that will download the files and store then in a folder `raw_data` at the root of the repository."
   ]
  },
  {
   "cell_type": "code",
   "execution_count": 3,
   "metadata": {},
   "outputs": [
    {
     "name": "stderr",
     "output_type": "stream",
     "text": [
      "Downloading...\n",
      "From (original): https://drive.google.com/uc?id=1IqcAJtYrDB1j40rBY5M-PGp6KNX-E3xq\n",
      "From (redirected): https://drive.google.com/uc?id=1IqcAJtYrDB1j40rBY5M-PGp6KNX-E3xq&confirm=t&uuid=13fe231f-8ac7-46f7-a1d0-348aec24198e\n",
      "To: /Users/martinlebras/Documents/Cours/EPFL/Projets/ada-2024-project-pdfromscratch/raw_data/beer_advocate/BeerAdvocate.tar.gz\n",
      "100%|██████████| 1.67G/1.67G [01:30<00:00, 18.4MB/s]\n",
      "Downloading...\n",
      "From (original): https://drive.google.com/uc?id=1SdScOOuA219GeA6jP6CTkj98FP_X0DMe\n",
      "From (redirected): https://drive.google.com/uc?id=1SdScOOuA219GeA6jP6CTkj98FP_X0DMe&confirm=t&uuid=ce13ce71-6121-48ec-94fe-aa09e9c7a9b4\n",
      "To: /Users/martinlebras/Documents/Cours/EPFL/Projets/ada-2024-project-pdfromscratch/raw_data/matched_beer_data/matched_beer_data.tar.gz\n",
      "100%|██████████| 454M/454M [00:20<00:00, 21.6MB/s] \n",
      "Downloading...\n",
      "From (original): https://drive.google.com/uc?id=1vt-CTz6Ni8fPTIkHehW9Mm0RPMpvkH3a\n",
      "From (redirected): https://drive.google.com/uc?id=1vt-CTz6Ni8fPTIkHehW9Mm0RPMpvkH3a&confirm=t&uuid=5cbba071-28bc-464a-be7f-a7afd0dbf4e5\n",
      "To: /Users/martinlebras/Documents/Cours/EPFL/Projets/ada-2024-project-pdfromscratch/raw_data/rate_beer/RateBeer.tar.gz\n",
      "100%|██████████| 1.87G/1.87G [01:45<00:00, 17.7MB/s]\n"
     ]
    }
   ],
   "source": [
    "%run src/scripts/download.py {os.path.join(os.getcwd(), 'raw_data')}"
   ]
  },
  {
   "cell_type": "markdown",
   "metadata": {},
   "source": [
    "# Beer Advocate"
   ]
  },
  {
   "cell_type": "code",
   "execution_count": 4,
   "metadata": {},
   "outputs": [],
   "source": [
    "df_ba_beers_styles = pd.read_csv(\"src/data/beers_styles.csv\")"
   ]
  },
  {
   "cell_type": "markdown",
   "metadata": {},
   "source": [
    "## Beers"
   ]
  },
  {
   "cell_type": "code",
   "execution_count": 6,
   "metadata": {},
   "outputs": [],
   "source": [
    "df_ba_beers = pd.read_csv(\"raw_data/beer_advocate/beers.csv\")\n",
    "df_ba_beers = preprocess_ba_beers(df_ba_beers, df_ba_beers_styles)\n",
    "df_ba_beers.to_csv(\"src/data/beer_advocate/beers.csv\", index=False)"
   ]
  },
  {
   "cell_type": "markdown",
   "metadata": {},
   "source": [
    "## Breweries"
   ]
  },
  {
   "cell_type": "code",
   "execution_count": 8,
   "metadata": {},
   "outputs": [],
   "source": [
    "df_ba_breweries = pd.read_csv(\"raw_data/beer_advocate/breweries.csv\")\n",
    "df_ba_breweries = preprocess_ba_breweries(df_ba_breweries)\n",
    "df_ba_breweries.to_csv(\"src/data/beer_advocate/breweries.csv\", index=False)"
   ]
  },
  {
   "cell_type": "markdown",
   "metadata": {},
   "source": [
    "## Users"
   ]
  },
  {
   "cell_type": "code",
   "execution_count": 10,
   "metadata": {},
   "outputs": [],
   "source": [
    "df_ba_users = pd.read_csv(\"raw_data/beer_advocate/users.csv\")\n",
    "df_ba_users = preprocess_ba_users(df_ba_users)\n",
    "df_ba_users.to_csv(\"src/data/beer_advocate/users.csv\", index=False)"
   ]
  },
  {
   "cell_type": "markdown",
   "metadata": {},
   "source": [
    "## Ratings & Reviews\n",
    "\n",
    "On BeerAdvocate, users can either submit a *rating* or a *review*. The dataset contains two separate text files `ratings.txt` and `reviews.txt`. Ratings and reviews are formatted as (key, value) pairs on each line of a plain text file with empty lines to split different ratings/reviews. \n",
    "\n",
    "The program `txt_to_csv.cpp` is a C++ program that transform a plain text file in a `.csv` file, that can be more easily analyzed using Python and Pandas. The following cell will compile the program using a C++ compiler and run it on the `ratings.txt` file only. Indeed, after analyzing the overlapping between the two files, we found that `reviews.txt` is a subset of `ratings.txt`. Thus, we will discard `reviews.txt` and only keep `ratings.txt`."
   ]
  },
  {
   "cell_type": "code",
   "execution_count": 11,
   "metadata": {},
   "outputs": [
    {
     "data": {
      "text/plain": [
       "CompletedProcess(args=['src/scripts/txt_to_csv', 'raw_data/beer_advocate/ratings.txt', 'raw_data/beer_advocate/ratings.csv'], returncode=0)"
      ]
     },
     "execution_count": 11,
     "metadata": {},
     "output_type": "execute_result"
    }
   ],
   "source": [
    "subprocess.run(\n",
    "    \"g++ -std=c++17 -o src/scripts/txt_to_csv src/scripts/txt_to_csv.cpp\", shell=True\n",
    ")\n",
    "\n",
    "subprocess.run(\n",
    "    [\n",
    "        \"src/scripts/txt_to_csv\",\n",
    "        \"raw_data/beer_advocate/ratings.txt\",\n",
    "        \"raw_data/beer_advocate/ratings.csv\",\n",
    "    ]\n",
    ")"
   ]
  },
  {
   "cell_type": "code",
   "execution_count": 13,
   "metadata": {},
   "outputs": [],
   "source": [
    "df_ba_ratings = pd.read_csv(\"raw_data/beer_advocate/ratings.csv\")\n",
    "df_ba_ratings = preprocess_ba_ratings(df_ba_ratings)"
   ]
  },
  {
   "cell_type": "markdown",
   "metadata": {},
   "source": [
    "For several analyses, we will be looking for the average scores given by the user on all the beers and on different styles of beer at the time of rating. We will also require the current rating of the beer evaluated at the time of rating. The function `get_past_ratings_count_and_average` computes the count and average of ratings according to provided parameters :\n",
    "\n",
    "|Parameter|Description|\n",
    "|---|---|\n",
    "|`sorting_columns` | Columns to sort to ensure the cumulative count and mean are done in the right order |\n",
    "|`grouping_columns` | Columns forming the group within which we want to compute the count and mean |\n",
    "|`name` | Prefix of the resulting columns |\n",
    "|`shift` | If `True`, the count and mean will **not** include the current rating in the computation |"
   ]
  },
  {
   "cell_type": "markdown",
   "metadata": {},
   "source": [
    "### Past ratings of each user\n",
    "\n",
    "The next cell computes the number and the average of past ratings of the user that posted a given rating at the time of this rating.\n",
    "$$\n",
    "\\begin{align*}\n",
    "& \\forall i \\in \\{0, 1, \\dots, N\\} \\\\ \n",
    "\\mathcal S_i &= \\{\\verb|ratings[n]| | (\\verb|ratings[i][user] == ratings[n][user]|) \\land (\\verb|ratings[i][date] > ratings[n][date]|) \\} \\\\\n",
    "\\verb|count[i]| &= |\\mathcal S_i| \\\\\n",
    "\\verb|average[i]| &= \\frac{1}{|\\mathcal S_i|} \\sum_{\\verb|rating| \\in \\mathcal S_i} \\verb|rating[rating]|\n",
    "\\end{align*}\n",
    "$$\n",
    "\n"
   ]
  },
  {
   "cell_type": "code",
   "execution_count": 15,
   "metadata": {},
   "outputs": [],
   "source": [
    "df_ba_ratings = get_past_ratings_count_and_average(\n",
    "    df_ba_ratings, [\"user_id\", \"date\"], [\"user_id\"], \"user\", shift=True\n",
    ")"
   ]
  },
  {
   "cell_type": "markdown",
   "metadata": {},
   "source": [
    "### Past ratings of each beer\n",
    "\n",
    "The next cell computes the number and the average of past ratings of the beer that is rated in a given rating at the time of this rating.\n",
    "$$\n",
    "\\begin{align*}\n",
    "& \\forall i \\in \\{0, 1, \\dots, N\\} \\\\ \n",
    "\\mathcal S_i &= \\{\\verb|ratings[n]| | (\\verb|ratings[i][beer] == ratings[n][beer]]|) \\land (\\verb|ratings[i][date] > ratings[n][date]|) \\} \\\\\n",
    "\\verb|count[i]| &= |\\mathcal S_i| \\\\\n",
    "\\verb|average[i]| &= \\frac{1}{|\\mathcal S_i|} \\sum_{\\verb|rating| \\in \\mathcal S_i} \\verb|rating[rating]|\n",
    "\\end{align*}\n",
    "$$\n",
    "\n"
   ]
  },
  {
   "cell_type": "code",
   "execution_count": 16,
   "metadata": {},
   "outputs": [],
   "source": [
    "df_ba_ratings = get_past_ratings_count_and_average(\n",
    "    df_ba_ratings, [\"beer_id\", \"date\"], [\"beer_id\"], \"beer\", shift=True\n",
    ")"
   ]
  },
  {
   "cell_type": "markdown",
   "metadata": {},
   "source": [
    "### Past ratings of each user for a specific beer style\n",
    "\n",
    "The next cell computes the number and the average of past ratings of the user that posted a given rating at the time of this rating and only for beers of the same style as the one of the current rating.\n",
    "$$\n",
    "\\begin{align*}\n",
    "& \\forall i \\in \\{0, 1, \\dots, N\\} \\\\ \n",
    "\\mathcal S_i &= \\{\\verb|ratings[n]| |\n",
    "    \\\\ & \\quad\\quad (\\verb|ratings[i][user] == ratings[n][user]|)\n",
    "    \\\\ & \\quad\\quad \\land  (\\verb|ratings[i][date] > ratings[n][date]|)\n",
    "    \\\\ & \\quad\\quad \\land (\\verb|ratings[i][beer_style] == ratings[n][beer_style]|) \n",
    "\\\\ & \\} \\\\\n",
    "\\verb|count[i]| &= |\\mathcal S_i| \\\\\n",
    "\\verb|average[i]| &= \\frac{1}{|\\mathcal S_i|} \\sum_{\\verb|rating| \\in \\mathcal S_i} \\verb|rating[rating]|\n",
    "\\end{align*}\n",
    "$$"
   ]
  },
  {
   "cell_type": "code",
   "execution_count": 17,
   "metadata": {},
   "outputs": [],
   "source": [
    "# Add global beer style to ratings\n",
    "df_ba_ratings = df_ba_ratings.merge(\n",
    "    df_ba_beers[[\"beer_id\", \"beer_global_style\"]], on=\"beer_id\", how=\"left\"\n",
    ")\n",
    "df_ba_ratings = get_past_ratings_count_and_average(\n",
    "    df_ba_ratings,\n",
    "    [\"user_id\", \"beer_global_style\", \"date\"],\n",
    "    [\"user_id\", \"beer_global_style\"],\n",
    "    \"user_beer_style\",\n",
    "    shift=False,\n",
    ")"
   ]
  },
  {
   "cell_type": "markdown",
   "metadata": {},
   "source": [
    "### Past ratings of each user for all beer styles\n",
    "\n",
    "The next cell computes the number and the average of past ratings of the user that posted a given rating at the time of this rating, for all styles of beer.\n",
    "\n",
    "Let $\\mathcal B$ be the set of beer styles.\n",
    "\n",
    "$$\n",
    "\\begin{align*}\n",
    "& \\forall i \\in \\{0, 1, \\dots, N\\}, \\forall j \\in \\mathcal B\\\\ \n",
    "\\mathcal S_{i, j} &= \\{\\verb|ratings[n]| |\n",
    "    \\\\ & \\quad\\quad (\\verb|ratings[i][user] == ratings[n][user]|)\n",
    "    \\\\ & \\quad\\quad \\land  (\\verb|ratings[i][date] > ratings[n][date]|)\n",
    "    \\\\ & \\quad\\quad \\land (\\verb|ratings[n][beer_style] == j|) \n",
    "\\\\ & \\} \\\\\n",
    "\\verb|count[i][j]| &= |\\mathcal S_{i, j}| \\\\\n",
    "\\verb|average[i][j]| &= \\frac{1}{|\\mathcal S_{i, j}|} \\sum_{\\verb|rating| \\in \\mathcal S_{i, j}} \\verb|rating[rating]|\n",
    "\\end{align*}\n",
    "$$\n",
    "\n",
    "Thus this function will create $2 \\times |\\mathcal B|$ new columns with the counts and averages for each style of beer."
   ]
  },
  {
   "cell_type": "code",
   "execution_count": 19,
   "metadata": {},
   "outputs": [
    {
     "name": "stderr",
     "output_type": "stream",
     "text": [
      "/var/folders/ng/n8p0hjyx5vg98_zrmqdwzxzw0000gn/T/ipykernel_38842/126769524.py:43: FutureWarning: Downcasting object dtype arrays on .fillna, .ffill, .bfill is deprecated and will change in a future version. Call result.infer_objects(copy=False) instead. To opt-in to the future behavior, set `pd.set_option('future.no_silent_downcasting', True)`\n",
      "  df_user_beer_style_past_ratings[modified_columns] = df_user_beer_style_past_ratings[modified_columns].fillna(0.0)\n"
     ]
    }
   ],
   "source": [
    "df_user_beer_style_past_ratings = get_past_ratings_counts_all_style(\n",
    "    df_ba_ratings, \"beer_global_style\", \"user_beer_style\"\n",
    ")\n",
    "df_user_beer_style_past_ratings.to_csv(\n",
    "    \"src/data/beer_advocate/user_beer_style_past_ratings.csv\", index=False\n",
    ")"
   ]
  },
  {
   "cell_type": "markdown",
   "metadata": {},
   "source": [
    "### User rating habits of different beer styles\n",
    "\n",
    "The next cell computes the Gini impurity of each user with respect to the number of beers of each style they rated. The Gini impurity is in $[0, 1]$ where $0$ means that the user has rated only one style of beer and $1$ means that the user has rated as many beers of each style.\n",
    "\n",
    "Let $\\mathcal S$ be the set of beer styles, then the **normalized** Gini impurity $G$ is computed as\n",
    "\n",
    "$$G=\\frac{1 - \\sum_{s \\in \\mathcal S} p_s^2}{1 - \\frac{1}{|\\mathcal S|}}$$"
   ]
  },
  {
   "cell_type": "code",
   "execution_count": 21,
   "metadata": {},
   "outputs": [],
   "source": [
    "df_ba_ratings = compute_gini_impurity(df_ba_ratings, df_user_beer_style_past_ratings)"
   ]
  },
  {
   "cell_type": "code",
   "execution_count": 22,
   "metadata": {},
   "outputs": [],
   "source": [
    "df_ba_ratings.sort_index(inplace=True)\n",
    "df_ba_ratings.to_csv(\"src/data/beer_advocate/ratings.csv\", index=False)"
   ]
  },
  {
   "cell_type": "markdown",
   "metadata": {},
   "source": [
    "## Memory cleaning"
   ]
  },
  {
   "cell_type": "code",
   "execution_count": 23,
   "metadata": {},
   "outputs": [],
   "source": [
    "del df_ba_beers\n",
    "del df_ba_breweries\n",
    "del df_ba_users\n",
    "del df_ba_ratings"
   ]
  },
  {
   "cell_type": "markdown",
   "metadata": {},
   "source": [
    "# RateBeer"
   ]
  },
  {
   "cell_type": "markdown",
   "metadata": {},
   "source": [
    "## Beers"
   ]
  },
  {
   "cell_type": "code",
   "execution_count": 58,
   "metadata": {},
   "outputs": [],
   "source": [
    "df_rb_beers = pd.read_csv(\"raw_data/rate_beer/beers.csv\")\n",
    "df_rb_beers = preprocess_rb_beers(df_rb_beers)\n",
    "df_rb_beers = preprocess_rb_beers_style(df_rb_beers, df_ba_beers_styles)"
   ]
  },
  {
   "cell_type": "markdown",
   "metadata": {},
   "source": [
    "Regarding the low number of beers that we were not able to match correctly to a global style, we decided to drop those beers."
   ]
  },
  {
   "cell_type": "code",
   "execution_count": 59,
   "metadata": {},
   "outputs": [
    {
     "name": "stdout",
     "output_type": "stream",
     "text": [
      "[RateBeer] 1.67% of beers have no global style\n"
     ]
    }
   ],
   "source": [
    "print(\n",
    "    f\"[RateBeer] {df_rb_beers['beer_global_style'].isna().mean() * 100:.2f}% of beers have no global style\"\n",
    ")"
   ]
  },
  {
   "cell_type": "code",
   "execution_count": 60,
   "metadata": {},
   "outputs": [],
   "source": [
    "df_rb_beers = df_rb_beers[~df_rb_beers[\"beer_global_style\"].isna()]\n",
    "df_rb_beers.to_csv(\"src/data/rate_beer/beers.csv\", index=False)"
   ]
  },
  {
   "cell_type": "markdown",
   "metadata": {},
   "source": [
    "## Breweries"
   ]
  },
  {
   "cell_type": "code",
   "execution_count": 62,
   "metadata": {},
   "outputs": [],
   "source": [
    "df_rb_breweries = pd.read_csv(\"raw_data/rate_beer/breweries.csv\")\n",
    "df_rb_breweries = preprocess_rb_breweries(df_rb_breweries)\n",
    "df_rb_breweries.to_csv(\"src/data/rate_beer/breweries.csv\", index=False)"
   ]
  },
  {
   "cell_type": "markdown",
   "metadata": {},
   "source": [
    "## Users"
   ]
  },
  {
   "cell_type": "code",
   "execution_count": 63,
   "metadata": {},
   "outputs": [],
   "source": [
    "df_rb_users = pd.read_csv(\"raw_data/rate_beer/users.csv\")"
   ]
  },
  {
   "cell_type": "code",
   "execution_count": 65,
   "metadata": {},
   "outputs": [],
   "source": [
    "df_rb_users = pd.read_csv(\"raw_data/rate_beer/users.csv\")\n",
    "df_rb_users = preprocess_rb_users(df_rb_users)\n",
    "df_rb_users.to_csv(\"src/data/rate_beer/users.csv\", index=False)"
   ]
  },
  {
   "cell_type": "markdown",
   "metadata": {},
   "source": [
    "## Ratings & Reviews\n",
    "\n",
    "Since there are only ratings on Rate Beer, the files `ratings.txt` and `reviews.txt` are strictly identical. We discard `reviews.txt` and parse `ratings.txt` using the `txt_to_csv.cpp` utility."
   ]
  },
  {
   "cell_type": "code",
   "execution_count": null,
   "metadata": {},
   "outputs": [],
   "source": [
    "subprocess.run(\n",
    "    [\n",
    "        \"src/scripts/txt_to_csv\",\n",
    "        \"raw_data/rate_beer/ratings.txt\",\n",
    "        \"raw_data/rate_beer/ratings.csv\",\n",
    "    ]\n",
    ")"
   ]
  },
  {
   "cell_type": "code",
   "execution_count": 66,
   "metadata": {},
   "outputs": [],
   "source": [
    "df_rb_ratings = pd.read_csv(\"raw_data/rate_beer/ratings.csv\")\n",
    "df_rb_ratings = preprocess_rb_ratings(df_rb_ratings, df_rb_beers)"
   ]
  },
  {
   "cell_type": "markdown",
   "metadata": {},
   "source": [
    "Since not all criterias are rated on the same scale, we rescaled everything on the same 5-star scale."
   ]
  },
  {
   "cell_type": "code",
   "execution_count": 70,
   "metadata": {},
   "outputs": [],
   "source": [
    "df_rb_ratings[[\"overall\", \"aroma\", \"appearance\", \"palate\", \"taste\"]] = (\n",
    "    5\n",
    "    * df_rb_ratings[[\"overall\", \"aroma\", \"appearance\", \"palate\", \"taste\"]]\n",
    "    / df_rb_ratings[[\"overall\", \"aroma\", \"appearance\", \"palate\", \"taste\"]].max()\n",
    ")"
   ]
  },
  {
   "cell_type": "markdown",
   "metadata": {},
   "source": [
    "### Past ratings of each user"
   ]
  },
  {
   "cell_type": "code",
   "execution_count": 39,
   "metadata": {},
   "outputs": [],
   "source": [
    "df_rb_ratings = get_past_ratings_count_and_average(\n",
    "    df_rb_ratings, [\"user_id\", \"date\"], [\"user_id\"], \"user\", shift=True\n",
    ")"
   ]
  },
  {
   "cell_type": "markdown",
   "metadata": {},
   "source": [
    "### Past ratings of each beer"
   ]
  },
  {
   "cell_type": "code",
   "execution_count": 40,
   "metadata": {},
   "outputs": [],
   "source": [
    "df_rb_ratings = get_past_ratings_count_and_average(\n",
    "    df_rb_ratings, [\"beer_id\", \"date\"], [\"beer_id\"], \"beer\", shift=True\n",
    ")"
   ]
  },
  {
   "cell_type": "markdown",
   "metadata": {},
   "source": [
    "### Past ratings of each user for all beer styles"
   ]
  },
  {
   "cell_type": "code",
   "execution_count": 41,
   "metadata": {},
   "outputs": [],
   "source": [
    "df_rb_ratings = df_rb_ratings.merge(\n",
    "    df_rb_beers[[\"beer_id\", \"beer_global_style\"]], on=\"beer_id\", how=\"left\"\n",
    ")\n",
    "df_rb_ratings = get_past_ratings_count_and_average(\n",
    "    df_rb_ratings,\n",
    "    [\"user_id\", \"beer_global_style\", \"date\"],\n",
    "    [\"user_id\", \"beer_global_style\"],\n",
    "    \"user_beer_style\",\n",
    "    shift=False,\n",
    ")"
   ]
  },
  {
   "cell_type": "code",
   "execution_count": 42,
   "metadata": {},
   "outputs": [
    {
     "name": "stderr",
     "output_type": "stream",
     "text": [
      "/var/folders/ng/n8p0hjyx5vg98_zrmqdwzxzw0000gn/T/ipykernel_38842/126769524.py:43: FutureWarning: Downcasting object dtype arrays on .fillna, .ffill, .bfill is deprecated and will change in a future version. Call result.infer_objects(copy=False) instead. To opt-in to the future behavior, set `pd.set_option('future.no_silent_downcasting', True)`\n",
      "  df_user_beer_style_past_ratings[modified_columns] = df_user_beer_style_past_ratings[modified_columns].fillna(0.0)\n"
     ]
    }
   ],
   "source": [
    "df_user_beer_style_past_ratings = get_past_ratings_counts_all_style(\n",
    "    df_rb_ratings, \"beer_global_style\", \"user_beer_style\"\n",
    ")\n",
    "df_user_beer_style_past_ratings.to_csv(\n",
    "    \"src/data/rate_beer/user_beer_style_past_ratings.csv\", index=False\n",
    ")"
   ]
  },
  {
   "cell_type": "markdown",
   "metadata": {},
   "source": [
    "### User rating habits of different beer styles"
   ]
  },
  {
   "cell_type": "code",
   "execution_count": 43,
   "metadata": {},
   "outputs": [],
   "source": [
    "df_rb_ratings = compute_gini_impurity(df_rb_ratings, df_user_beer_style_past_ratings)"
   ]
  },
  {
   "cell_type": "code",
   "execution_count": 44,
   "metadata": {},
   "outputs": [],
   "source": [
    "df_rb_ratings.sort_index(inplace=True)\n",
    "df_rb_ratings.to_csv(\"src/data/rate_beer/ratings.csv\", index=False)"
   ]
  },
  {
   "cell_type": "markdown",
   "metadata": {},
   "source": [
    "## Memory cleaning"
   ]
  },
  {
   "cell_type": "code",
   "execution_count": 45,
   "metadata": {},
   "outputs": [],
   "source": [
    "del df_rb_beers\n",
    "del df_rb_breweries\n",
    "del df_rb_users\n",
    "del df_rb_ratings"
   ]
  },
  {
   "cell_type": "markdown",
   "metadata": {},
   "source": [
    "# Matched Beer Data"
   ]
  },
  {
   "cell_type": "markdown",
   "metadata": {},
   "source": [
    "## Beers"
   ]
  },
  {
   "cell_type": "code",
   "execution_count": 46,
   "metadata": {},
   "outputs": [],
   "source": [
    "df_ma_beers = pd.read_csv(\"raw_data/matched_beer_data/beers.csv\", header=[0, 1])\n",
    "df_ma_beers = df_ma_beers[\n",
    "    [(\"ba\", \"beer_id\"), (\"rb\", \"beer_id\"), (\"scores\", \"diff\"), (\"scores\", \"sim\")]\n",
    "]\n",
    "df_ma_beers.to_csv(\"src/data/matched_beer_data/beers.csv\", index=False)"
   ]
  },
  {
   "cell_type": "markdown",
   "metadata": {},
   "source": [
    "## Breweries"
   ]
  },
  {
   "cell_type": "code",
   "execution_count": 47,
   "metadata": {},
   "outputs": [],
   "source": [
    "df_ma_breweries = pd.read_csv(\"raw_data/matched_beer_data/breweries.csv\", header=[0, 1])\n",
    "df_ma_breweries = df_ma_breweries.rename(\n",
    "    columns={\n",
    "        \"id\": \"brewery_id\",\n",
    "    },\n",
    "    level=1,\n",
    ")\n",
    "df_ma_breweries = df_ma_breweries[\n",
    "    [(\"ba\", \"brewery_id\"), (\"rb\", \"brewery_id\"), (\"scores\", \"diff\"), (\"scores\", \"sim\")]\n",
    "]\n",
    "df_ma_breweries.to_csv(\"src/data/matched_beer_data/breweries.csv\", index=False)"
   ]
  },
  {
   "cell_type": "markdown",
   "metadata": {},
   "source": [
    "## Users"
   ]
  },
  {
   "cell_type": "code",
   "execution_count": 48,
   "metadata": {},
   "outputs": [],
   "source": [
    "df_ma_users = pd.read_csv(\"raw_data/matched_beer_data/users.csv\", header=[0, 1])\n",
    "df_ma_users = df_ma_users[[(\"ba\", \"user_id\"), (\"rb\", \"user_id\")]]\n",
    "df_ma_users.to_csv(\"src/data/matched_beer_data/users.csv\", index=False)"
   ]
  },
  {
   "cell_type": "code",
   "execution_count": 49,
   "metadata": {},
   "outputs": [],
   "source": [
    "df_ma_users_approx = pd.read_csv(\n",
    "    \"raw_data/matched_beer_data/users_approx.csv\", header=[0, 1]\n",
    ")\n",
    "df_ma_users_approx = df_ma_users_approx[\n",
    "    [(\"ba\", \"user_id\"), (\"rb\", \"user_id\"), (\"scores\", \"sim\")]\n",
    "]\n",
    "df_ma_users_approx.to_csv(\"src/data/matched_beer_data/users_approx.csv\", index=False)"
   ]
  },
  {
   "cell_type": "markdown",
   "metadata": {},
   "source": [
    "## Ratings & Reviews"
   ]
  },
  {
   "cell_type": "code",
   "execution_count": 50,
   "metadata": {},
   "outputs": [],
   "source": [
    "df_ma_ratings = pd.read_csv(\"raw_data/matched_beer_data/ratings.csv\", header=[0, 1])\n",
    "df_ma_ratings = df_ma_ratings[\n",
    "    [\n",
    "        (\"ba\", \"beer_id\"),\n",
    "        (\"ba\", \"user_id\"),\n",
    "        (\"rb\", \"beer_id\"),\n",
    "        (\"rb\", \"user_id\"),\n",
    "    ]\n",
    "]\n",
    "df_ma_ratings.to_csv(\"src/data/matched_beer_data/ratings.csv\", index=False)"
   ]
  },
  {
   "cell_type": "markdown",
   "metadata": {},
   "source": [
    "## Memory cleaning"
   ]
  },
  {
   "cell_type": "code",
   "execution_count": 51,
   "metadata": {},
   "outputs": [],
   "source": [
    "del df_ma_beers\n",
    "del df_ma_breweries\n",
    "del df_ma_users\n",
    "del df_ma_users_approx\n",
    "del df_ma_ratings"
   ]
  }
 ],
 "metadata": {
  "kernelspec": {
   "display_name": "ada_project",
   "language": "python",
   "name": "python3"
  },
  "language_info": {
   "codemirror_mode": {
    "name": "ipython",
    "version": 3
   },
   "file_extension": ".py",
   "mimetype": "text/x-python",
   "name": "python",
   "nbconvert_exporter": "python",
   "pygments_lexer": "ipython3",
   "version": "3.13.0"
  }
 },
 "nbformat": 4,
 "nbformat_minor": 2
}
